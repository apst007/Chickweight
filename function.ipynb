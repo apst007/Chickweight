{
 "cells": [
  {
   "cell_type": "code",
   "execution_count": 1,
   "metadata": {},
   "outputs": [
    {
     "name": "stdout",
     "output_type": "stream",
     "text": [
      "db conection successfully\n",
      "db conection successfully\n"
     ]
    }
   ],
   "source": [
    "from db import ChicWDB\n",
    "from data_processing import Chicken_Weigth\n",
    "\n",
    "db = ChicWDB()\n",
    "dps = Chicken_Weigth()"
   ]
  },
  {
   "cell_type": "code",
   "execution_count": 2,
   "metadata": {},
   "outputs": [
    {
     "name": "stdout",
     "output_type": "stream",
     "text": [
      "Create chic_weigt table successful\n"
     ]
    }
   ],
   "source": [
    "### Create Table ChickenWeight\n",
    "# db.create_chic_weigt_tbl()"
   ]
  },
  {
   "cell_type": "code",
   "execution_count": 3,
   "metadata": {},
   "outputs": [
    {
     "name": "stdout",
     "output_type": "stream",
     "text": [
      "update_weigth_to_db successfully\n"
     ]
    }
   ],
   "source": [
    "### Update Database\n",
    "dps.update_weigth_to_db()"
   ]
  }
 ],
 "metadata": {
  "kernelspec": {
   "display_name": "Python 3.9.12 ('base')",
   "language": "python",
   "name": "python3"
  },
  "language_info": {
   "codemirror_mode": {
    "name": "ipython",
    "version": 3
   },
   "file_extension": ".py",
   "mimetype": "text/x-python",
   "name": "python",
   "nbconvert_exporter": "python",
   "pygments_lexer": "ipython3",
   "version": "3.9.12"
  },
  "orig_nbformat": 4,
  "vscode": {
   "interpreter": {
    "hash": "aa2d5a68bb20a69050f7d9a0aff97bc33fd2596abfd3e35618a0dd823d609163"
   }
  }
 },
 "nbformat": 4,
 "nbformat_minor": 2
}
